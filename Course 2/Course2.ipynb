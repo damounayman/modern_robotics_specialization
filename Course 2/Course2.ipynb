{
 "cells": [
  {
   "cell_type": "code",
   "execution_count": 28,
   "metadata": {},
   "outputs": [],
   "source": [
    "#!pip install modern_robotics\n",
    "import modern_robotics as mr\n",
    "from modern_robotics import *\n",
    "import numpy as np\n",
    "import math\n",
    "from math import cos,sin"
   ]
  },
  {
   "cell_type": "markdown",
   "metadata": {},
   "source": [
    "### Forward Kinematics\n",
    "\n",
    "The URRPR spatial open chain of Figure is shown in its zero position. Determine the end-effector zero position configuration M, the screw axes $\\mathscr{S}{i}$ in {0}, and the screw axes $\\mathscr{B}{i}$ in {b}."
   ]
  },
  {
   "cell_type": "markdown",
   "metadata": {},
   "source": [
    "<img src=\"./assets/URRPR.png\" width=\"500\"/>"
   ]
  },
  {
   "cell_type": "markdown",
   "metadata": {},
   "source": [
    "$$\n",
    "M=\\left[\\begin{array}{cccc}\n",
    "1 & 0 & 0 & (2+\\sqrt{3}) L \\\\\n",
    "0 & 1 & 0 & 0 \\\\\n",
    "0 & 0 & 1 & (1+\\sqrt{3}) L \\\\\n",
    "0 & 0 & 0 & 1\n",
    "\\end{array}\\right]\n",
    "$$\n"
   ]
  },
  {
   "cell_type": "markdown",
   "metadata": {},
   "source": [
    "the screw axes Si​ in {0} \n",
    "$$\n",
    "\\begin{array}{l|l|l}\n",
    "i & w_i & V_i \\\\\n",
    "\\hline 1 & (0,0,1) & (0,-L, 0) \\\\\n",
    "\\hline 2 & (0,1,0) & (0,0, L) \\\\\n",
    "\\hline 3 & (0,1,0) & (L, 0,(1+\\sqrt{3}) L) \\\\\n",
    "\\hline 4 & (0,1,0) & ((1-\\sqrt{3}) L, 0,(2+\\sqrt{3}) L) \\\\\n",
    "\\hline 5 & (0,0,0) & (0,0,1) \\\\\n",
    "\\hline 6 & (0,0,1) & (0,-(2+\\sqrt{3}) L, 0) \\\\\n",
    "\\hline\n",
    "\\end{array}\n",
    "$$\n",
    "\n"
   ]
  },
  {
   "cell_type": "markdown",
   "metadata": {},
   "source": [
    "the screw axes Bi​ in {b} \n",
    "$$\n",
    "\\begin{array}{c|c|c}\n",
    "i & \\omega_i & V_i \\\\\n",
    "\\hline 1 & (0,0,1) & (0,(1+\\sqrt{3}) L, 0) \\\\\n",
    "\\hline 2 & (0,1,0) & ((1+\\sqrt{3}) L, 0,-(1+\\sqrt{3}) L) \\\\\n",
    "\\hline 3 & (0,1,0) & ((2+\\sqrt{3}) L, 0,-L) \\\\\n",
    "\\hline 4 & (0,1,0) & (2 L, 0,0) \\\\\n",
    "\\hline 5 & (0,0,0) & (0,0,1) \\\\\n",
    "\\hline 6 & (0,0,1) & (0,0,0)\n",
    "\\end{array}\n",
    "$$\n"
   ]
  },
  {
   "cell_type": "markdown",
   "metadata": {},
   "source": []
  },
  {
   "cell_type": "code",
   "execution_count": 29,
   "metadata": {},
   "outputs": [
    {
     "name": "stdout",
     "output_type": "stream",
     "text": [
      "[[ 5.00000000e-01  8.66025404e-01  1.07239309e-16  1.00000000e+00]\n",
      " [ 2.24143868e-01 -1.29409523e-01 -9.65925826e-01 -1.89777748e+00]\n",
      " [-8.36516304e-01  4.82962913e-01 -2.58819045e-01 -4.50850794e+00]\n",
      " [ 0.00000000e+00  0.00000000e+00  0.00000000e+00  1.00000000e+00]]\n"
     ]
    }
   ],
   "source": [
    "L = 1\n",
    "M = np.array(\n",
    "    [[1, 0, 0, (2+np.sqrt(3))*L],\n",
    "     [0, 1, 0, 0],\n",
    "        [0, 0, 1, (1+np.sqrt(3))*L],\n",
    "        [0, 0, 0, 1]])\n",
    "\n",
    "S1 = [0, 0, 1, 0, -L, 0]\n",
    "S2 = [0, 1, 0, 0, 0, L]\n",
    "S3 = [0, 1, 0, L, 0, (1+np.sqrt(3))*L]\n",
    "S4 = [0, 1, 0, (1-np.sqrt(3))*L, 0, (2+np.sqrt(3))*L]\n",
    "S5 = [0, 0, 0, 0, 0, 1]\n",
    "S6 = [0, 0, 1, 0, -(2+np.sqrt(3))*L, 0]\n",
    "PI = math.pi\n",
    "\n",
    "\n",
    "\n",
    "th1 = -PI/2\n",
    "th2 = PI/2\n",
    "th3 = PI/3\n",
    "th4 = -PI/4\n",
    "th5 = 1\n",
    "th6 = PI/6\n",
    "\n",
    "Slist = np.array([S1, S2, S3, S4, S5, S6]).T\n",
    "thetalist = np.array([th1, th2, th3,th4,th5,th6])\n",
    "T07 = FKinSpace(M, Slist, thetalist)\n",
    "print(T07)"
   ]
  },
  {
   "cell_type": "markdown",
   "metadata": {},
   "source": [
    "# Quiz Chapter 4, Forward Kinematics\n",
    "<br/>\n",
    "<br/>\n",
    "**Question 1 Determine the end-effector zero configuration M.**\n",
    "\n",
    "**[[1,0,0,3.732],[0,1,0,0],[0,0,1,2.732],[0,0,0,1]]**\n",
    "<br/>\n",
    "\n",
    "**Question 2 Determine the screw axes Si in {0} when the robot is in its zero position.**    \n",
    "\n",
    "**[[0,0,0,0,0,0],[0,1,1,1,0,0],[1,0,0,0,0,1],[0,0,1,-0.732,0,0],[-1,0,0,0,0,-3.732],[0,1,2.732,3.732,1,0]]**\n",
    " \n",
    "<br/>\n",
    "**Question 3 Determine the screw axes Bi in {b} when the robot is in its zero position.**    \n",
    "\n",
    "**[[0,0,0,0,0,0],[0,1,1,1,0,0],[1,0,0,0,0,1],[0,2.732,3.732,2,0,0],[2.732,0,0,0,0,0],[0,-2.732,-1,0,1,0]]**\n",
    "\n",
    "<br/>\n",
    "**Question 4 Use the function FKinSpace in the given software to find the end-effector configuration.**    \n",
    "\n",
    "**[[0.5,0.87,0,1],[0.22,-0.13,-0.97,-1.9],[-0.84,0.48,-0.26,-4.5],[0,0,0,1]]**\n",
    "\n",
    "<br/>\n",
    "**Question 5 Use the function FKinBody in the given software to find the end-effector configuration.**    \n",
    "\n",
    "**[[0.5,0.87,0,1],[0.22,-0.13,-0.97,-1.9],[-0.84,0.48,-0.26,-4.5],[0,0,0,1]]**\n",
    "\n",
    "<br/>"
   ]
  },
  {
   "cell_type": "code",
   "execution_count": 30,
   "metadata": {},
   "outputs": [
    {
     "name": "stdout",
     "output_type": "stream",
     "text": [
      "\n",
      "Question 1:\n",
      " [[1.  ,0.  ,0.  ,3.73],\n",
      " [0.  ,1.  ,0.  ,0.  ],\n",
      " [0.  ,0.  ,1.  ,2.73],\n",
      " [0.  ,0.  ,0.  ,1.  ]]\n",
      "\n",
      "Question 2:\n",
      " [[ 0.  , 0.  , 0.  , 0.  , 0.  , 0.  ],\n",
      " [ 0.  , 1.  , 1.  , 1.  , 0.  , 0.  ],\n",
      " [ 1.  , 0.  , 0.  , 0.  , 0.  , 1.  ],\n",
      " [ 0.  , 0.  , 1.  ,-0.73, 0.  , 0.  ],\n",
      " [-1.  , 0.  , 0.  , 0.  , 0.  ,-3.73],\n",
      " [ 0.  , 1.  , 2.73, 3.73, 1.  , 0.  ]]\n",
      "\n",
      "Question 3:\n",
      " [[ 0.  , 0.  , 0.  , 0.  , 0.  , 0.  ],\n",
      " [ 0.  , 1.  , 1.  , 1.  , 0.  , 0.  ],\n",
      " [ 1.  , 0.  , 0.  , 0.  , 0.  , 1.  ],\n",
      " [ 0.  , 2.73, 3.73, 2.  , 0.  , 0.  ],\n",
      " [ 2.73, 0.  , 0.  , 0.  , 0.  , 0.  ],\n",
      " [ 0.  ,-2.73,-1.  , 0.  , 1.  , 0.  ]]\n",
      "\n",
      "Question 4:\n",
      " [[ 0.5 , 0.87, 0.  , 1.  ],\n",
      " [ 0.22,-0.13,-0.97,-1.9 ],\n",
      " [-0.84, 0.48,-0.26,-4.5 ],\n",
      " [ 0.  , 0.  , 0.  , 1.  ]]\n",
      "\n",
      "Question 5:\n",
      " [[ 0.5 , 0.87, 0.  , 1.  ],\n",
      " [ 0.22,-0.13,-0.97,-1.9 ],\n",
      " [-0.84, 0.48,-0.26,-4.5 ],\n",
      " [ 0.  , 0.  , 0.  , 1.  ]]\n"
     ]
    }
   ],
   "source": [
    "import numpy as np \n",
    "import modern_robotics as mr \n",
    "import math\n",
    "\n",
    "pi = math.pi\n",
    "\n",
    "# question 1\n",
    "M = np.array([[    1,    0,    0, 3.73],\n",
    "              [    0,    1,    0,    0],\n",
    "              [    0,    0,    1, 2.73],\n",
    "              [    0,    0,    0,    1]])\n",
    "print(\"\\nQuestion 1:\\n\", np.array2string(M, separator=',', suppress_small=True))\n",
    "\n",
    "# question 2\n",
    "Slist = np.array([[    0,    0,    1,    0,   -1,    0],\n",
    "                  [    0,    1,    0,    0,    0,    1],\n",
    "                  [    0,    1,    0,    1,    0, 2.73],\n",
    "                  [    0,    1,    0,-0.73,    0, 3.73],\n",
    "                  [    0,    0,    0,    0,    0,    1],\n",
    "                  [    0,    0,    1,    0,    -3.73,0]]).T\n",
    "print(\"\\nQuestion 2:\\n\", np.array2string(Slist, separator=',', suppress_small=True))\n",
    "\n",
    "# question 3\n",
    "Blist = np.array([[    0,    0,    1,    0, 2.73,    0],\n",
    "                  [    0,    1,    0, 2.73,    0,-2.73],\n",
    "                  [    0,    1,    0, 3.73,    0,   -1],\n",
    "                  [    0,    1,    0,    2,    0,    0],\n",
    "                  [    0,    0,    0,    0,    0,    1],\n",
    "                  [    0,    0,    1,    0,    0,    0]]).T\n",
    "print(\"\\nQuestion 3:\\n\", np.array2string(Blist, separator=',', suppress_small=True))\n",
    "\n",
    "# question 4\n",
    "thetalist_space = np.array([-pi/2, pi/2, pi/3, -pi/4, 1, pi/6])\n",
    "MatSpace = mr.FKinSpace(M, Slist, thetalist_space) \n",
    "MatSpaceOff = np.around(MatSpace, decimals=2)\n",
    "print(\"\\nQuestion 4:\\n\", np.array2string(MatSpaceOff, separator=',', suppress_small=True))\n",
    "\n",
    "# question 5\n",
    "thetalist_body = np.array([-pi/2, pi/2, pi/3, -pi/4, 1, pi/6])\n",
    "MatBody = mr.FKinBody(M, Blist, thetalist_body)\n",
    "MatBodyOff = np.around(MatBody, decimals=2)\n",
    "print(\"\\nQuestion 5:\\n\", np.array2string(MatBodyOff, separator=',', suppress_small=True))"
   ]
  }
 ],
 "metadata": {
  "kernelspec": {
   "display_name": "Python 3.8.10 64-bit",
   "language": "python",
   "name": "python3"
  },
  "language_info": {
   "codemirror_mode": {
    "name": "ipython",
    "version": 3
   },
   "file_extension": ".py",
   "mimetype": "text/x-python",
   "name": "python",
   "nbconvert_exporter": "python",
   "pygments_lexer": "ipython3",
   "version": "3.8.10"
  },
  "vscode": {
   "interpreter": {
    "hash": "916dbcbb3f70747c44a77c7bcd40155683ae19c65e1c03b4aa3499c5328201f1"
   }
  }
 },
 "nbformat": 4,
 "nbformat_minor": 4
}
