{
 "cells": [
  {
   "cell_type": "code",
   "execution_count": 5,
   "metadata": {},
   "outputs": [],
   "source": [
    "#!pip install modern_robotics"
   ]
  },
  {
   "cell_type": "code",
   "execution_count": 6,
   "metadata": {},
   "outputs": [],
   "source": [
    "import modern_robotics as mr\n",
    "import numpy as np"
   ]
  },
  {
   "cell_type": "code",
   "execution_count": 8,
   "metadata": {},
   "outputs": [
    {
     "name": "stdout",
     "output_type": "stream",
     "text": [
      "[[0 1 0]\n",
      " [0 0 1]\n",
      " [1 0 0]]\n"
     ]
    }
   ],
   "source": [
    "R = np.array([[0, 0, 1],\n",
    "              [1, 0, 0],\n",
    "              [0, 1, 0]])\n",
    "invR = mr.RotInv(R)\n",
    "print(invR)"
   ]
  },
  {
   "cell_type": "code",
   "execution_count": 9,
   "metadata": {},
   "outputs": [
    {
     "name": "stdout",
     "output_type": "stream",
     "text": [
      "\n",
      "Question 1:\n",
      " [[ 0,-1, 0, 0],\n",
      " [ 0, 0,-1, 0],\n",
      " [ 1, 0, 0, 1],\n",
      " [ 0, 0, 0, 1]]\n",
      "\n",
      "Question 2:\n",
      " [[ 1, 0, 0, 0],\n",
      " [ 0, 0,-1, 0],\n",
      " [ 0, 1, 0,-2],\n",
      " [ 0, 0, 0, 1]]\n",
      "\n",
      "Question 3:\n",
      " [[ 0,-1, 0,-1],\n",
      " [-1, 0, 0, 0],\n",
      " [ 0, 0,-1,-2],\n",
      " [ 0, 0, 0, 1]]\n",
      "\n",
      "Question 5:\n",
      " [ 1, 5,-2]\n",
      "\n",
      "Question 7:\n",
      " [ 1.,-3.,-2.,-3.,-1., 5.]\n",
      "\n",
      "Question 8:\n",
      " 2.09\n",
      "\n",
      "Question 9:\n",
      " [[-0.62,-0.7 , 0.35, 1.06],\n",
      " [ 0.7 ,-0.29, 0.65, 1.94],\n",
      " [-0.35, 0.65, 0.68,-0.97],\n",
      " [ 0.  , 0.  , 0.  , 1.  ]]\n",
      "\n",
      "Question 10:\n",
      " [-1., 0.,-4., 2., 0.,-1.]\n",
      "\n",
      "Question 11:\n",
      " [[ 0, 1, 0, 0],\n",
      " [-1, 0, 0, 3],\n",
      " [ 0, 0, 1,-1],\n",
      " [ 0, 0, 0, 1]]\n",
      "\n",
      "Question 12:\n",
      " [[ 0., 0., 0., 0.],\n",
      " [ 0., 0.,-1., 2.],\n",
      " [ 0., 1., 0., 3.],\n",
      " [ 0., 0., 0., 0.]]\n",
      "\n",
      "Question 13:\n",
      " [1,0,0,1,2,0]\n",
      "\n",
      "Question 14:\n",
      " [[-0.,-1., 0., 3.],\n",
      " [ 1.,-0., 0., 0.],\n",
      " [ 0., 0., 1., 1.],\n",
      " [ 0., 0., 0., 1.]]\n",
      "\n",
      "Question 15:\n",
      " [[ 0.  ,-1.57, 0.  , 2.36],\n",
      " [ 1.57, 0.  , 0.  ,-2.36],\n",
      " [ 0.  , 0.  , 0.  , 1.  ],\n",
      " [ 0.  , 0.  , 0.  , 0.  ]]\n"
     ]
    }
   ],
   "source": [
    "T_sa = np.array([[0,-1, 0, 0],\n",
    "                 [0, 0,-1, 0],\n",
    "                 [1, 0, 0, 1],\n",
    "                 [0, 0, 0, 1]])\n",
    "print(\"\\nQuestion 1:\\n\", np.array2string(T_sa, separator=',')) # question 1\n",
    "\n",
    "T_sb = np.array([[1, 0, 0, 0],\n",
    "                 [0, 0, 1, 2],\n",
    "                 [0,-1, 0, 0],\n",
    "                 [0, 0, 0, 1]])\n",
    "\n",
    "T_bs = mr.TransInv(T_sb)\n",
    "print(\"\\nQuestion 2:\\n\", np.array2string(T_bs, separator=',')) # question 2\n",
    "\n",
    "T_as = mr.TransInv(T_sa)\n",
    "T_ab = np.dot(T_as, T_sb)\n",
    "print(\"\\nQuestion 3:\\n\", np.array2string(T_ab, separator=',')) # question 3\n",
    "\n",
    "p_b = np.array([1, 2, 3])\n",
    "p_b_homo = np.append(p_b, 1)\n",
    "p_s_homo = np.dot(T_sb, p_b_homo)\n",
    "p_s = np.delete(p_s_homo, 3)\n",
    "print(\"\\nQuestion 5:\\n\", np.array2string(p_s, separator=',')) # question 5\n",
    "\n",
    "V_s = np.array([3, 2, 1, -1, -2, -3])\n",
    "Ad_T_as = mr.Adjoint(T_as)\n",
    "V_a = np.dot(Ad_T_as, V_s)\n",
    "print(\"\\nQuestion 7:\\n\", np.array2string(V_a, separator=',')) # question 7\n",
    "\n",
    "MatrixLog_T_sa = mr.MatrixLog6(T_sa)\n",
    "MatrixLog_T_sa_vec = mr.se3ToVec(MatrixLog_T_sa)\n",
    "theta_MatrixLog_T_sa = mr.AxisAng6(MatrixLog_T_sa_vec)[1]\n",
    "print(\"\\nQuestion 8:\\n\", round(theta_MatrixLog_T_sa, 2)) # question 8\n",
    "\n",
    "exp_coord_q9_vec = np.array([0, 1, 2, 3, 0, 0])\n",
    "exp_coord_q9_se3 = mr.VecTose3(exp_coord_q9_vec)\n",
    "MatrixExp_exp_coord_q9 = mr.MatrixExp6(exp_coord_q9_se3)\n",
    "MatrixExp_exp_coord_q9_off = np.around(MatrixExp_exp_coord_q9, decimals=2)\n",
    "print(\"\\nQuestion 9:\\n\", np.array2string(MatrixExp_exp_coord_q9_off, separator=',', suppress_small=True)) # question 9\n",
    "\n",
    "F_b = np.array([1, 0, 0, 2, 1, 0])\n",
    "Ad_T_bs = mr.Adjoint(T_bs)\n",
    "Ad_T_bs_trans = np.transpose(Ad_T_bs)\n",
    "F_s = np.dot(Ad_T_bs_trans, F_b)\n",
    "print(\"\\nQuestion 10:\\n\", np.array2string(F_s, separator=',')) # question 10\n",
    "\n",
    "T_q11 = np.array([[ 0, -1,  0,  3],\n",
    "                  [ 1,  0,  0,  0],\n",
    "                  [ 0,  0,  1,  1],\n",
    "                  [ 0,  0,  0,  1]])\n",
    "T_q11_inv = mr.TransInv(T_q11)\n",
    "print(\"\\nQuestion 11:\\n\", np.array2string(T_q11_inv, separator=',')) # question 11\n",
    "\n",
    "V_q12 = np.array([1, 0, 0, 0, 2, 3])\n",
    "V_q12_se3 = mr.VecTose3(V_q12)\n",
    "print(\"\\nQuestion 12:\\n\", np.array2string(V_q12_se3, separator=',')) # question 12\n",
    "\n",
    "vec_s_q13 = np.array([1, 0, 0])\n",
    "point_p_q13 = np.array([0, 0, 2])\n",
    "h_q13 = 1\n",
    "S_q13 = mr.ScrewToAxis(point_p_q13, vec_s_q13, h_q13)\n",
    "print(\"\\nQuestion 13:\\n\", np.array2string(S_q13, separator=',')) # question 13\n",
    "\n",
    "MatrixExp_q14 = np.array([[     0, -1.5708, 0,  2.3562],\n",
    "                          [1.5708,       0, 0, -2.3562],\n",
    "                          [     0,       0, 0,       1],\n",
    "                          [     0,       0, 0,       0]])\n",
    "T_q14 = mr.MatrixExp6(MatrixExp_q14)\n",
    "T_q14_off = np.around(T_q14, decimals=0)\n",
    "print(\"\\nQuestion 14:\\n\", np.array2string(T_q14_off, separator=',', suppress_small=True)) # question 14\n",
    "\n",
    "T_q15 = np.array([[ 0, -1, 0, 3],\n",
    "                  [ 1,  0, 0, 0],\n",
    "                  [ 0,  0, 1, 1],\n",
    "                  [ 0,  0, 0, 1]])\n",
    "MatrixLog_T_q15 = mr.MatrixLog6(T_q15)\n",
    "MatrixLog_T_q15_off = np.around(MatrixLog_T_q15, decimals=2)\n",
    "print(\"\\nQuestion 15:\\n\", np.array2string(MatrixLog_T_q15_off, separator=',', suppress_small=True)) # question 15"
   ]
  },
  {
   "cell_type": "code",
   "execution_count": null,
   "metadata": {},
   "outputs": [],
   "source": []
  }
 ],
 "metadata": {
  "kernelspec": {
   "display_name": "Python 3.8.10 64-bit",
   "language": "python",
   "name": "python3"
  },
  "language_info": {
   "codemirror_mode": {
    "name": "ipython",
    "version": 3
   },
   "file_extension": ".py",
   "mimetype": "text/x-python",
   "name": "python",
   "nbconvert_exporter": "python",
   "pygments_lexer": "ipython3",
   "version": "3.8.10"
  },
  "vscode": {
   "interpreter": {
    "hash": "916dbcbb3f70747c44a77c7bcd40155683ae19c65e1c03b4aa3499c5328201f1"
   }
  }
 },
 "nbformat": 4,
 "nbformat_minor": 4
}
